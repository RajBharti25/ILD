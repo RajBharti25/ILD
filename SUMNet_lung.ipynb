{
  "nbformat": 4,
  "nbformat_minor": 0,
  "metadata": {
    "colab": {
      "name": "SUMNet_lung.ipynb",
      "provenance": [],
      "authorship_tag": "ABX9TyPUUfiX4EEnsCgDqlIKaI34",
      "include_colab_link": true
    },
    "kernelspec": {
      "name": "python3",
      "display_name": "Python 3"
    },
    "accelerator": "GPU",
    "widgets": {
      "application/vnd.jupyter.widget-state+json": {
        "8ac153f7e81248ea9cb2de035069f7ee": {
          "model_module": "@jupyter-widgets/controls",
          "model_name": "HBoxModel",
          "state": {
            "_view_name": "HBoxView",
            "_dom_classes": [],
            "_model_name": "HBoxModel",
            "_view_module": "@jupyter-widgets/controls",
            "_model_module_version": "1.5.0",
            "_view_count": null,
            "_view_module_version": "1.5.0",
            "box_style": "",
            "layout": "IPY_MODEL_e78acae6f2fa462eb5ca7cc61d26ad81",
            "_model_module": "@jupyter-widgets/controls",
            "children": [
              "IPY_MODEL_163d2fe7dc2343f2b04241d203f61d1c",
              "IPY_MODEL_1e5e73b29d9548139f732ee1dfb319e9"
            ]
          }
        },
        "e78acae6f2fa462eb5ca7cc61d26ad81": {
          "model_module": "@jupyter-widgets/base",
          "model_name": "LayoutModel",
          "state": {
            "_view_name": "LayoutView",
            "grid_template_rows": null,
            "right": null,
            "justify_content": null,
            "_view_module": "@jupyter-widgets/base",
            "overflow": null,
            "_model_module_version": "1.2.0",
            "_view_count": null,
            "flex_flow": null,
            "width": null,
            "min_width": null,
            "border": null,
            "align_items": null,
            "bottom": null,
            "_model_module": "@jupyter-widgets/base",
            "top": null,
            "grid_column": null,
            "overflow_y": null,
            "overflow_x": null,
            "grid_auto_flow": null,
            "grid_area": null,
            "grid_template_columns": null,
            "flex": null,
            "_model_name": "LayoutModel",
            "justify_items": null,
            "grid_row": null,
            "max_height": null,
            "align_content": null,
            "visibility": null,
            "align_self": null,
            "height": null,
            "min_height": null,
            "padding": null,
            "grid_auto_rows": null,
            "grid_gap": null,
            "max_width": null,
            "order": null,
            "_view_module_version": "1.2.0",
            "grid_template_areas": null,
            "object_position": null,
            "object_fit": null,
            "grid_auto_columns": null,
            "margin": null,
            "display": null,
            "left": null
          }
        },
        "163d2fe7dc2343f2b04241d203f61d1c": {
          "model_module": "@jupyter-widgets/controls",
          "model_name": "FloatProgressModel",
          "state": {
            "_view_name": "ProgressView",
            "style": "IPY_MODEL_0a77cbcbd3da4f1ebf97c8b24350206f",
            "_dom_classes": [],
            "description": "100%",
            "_model_name": "FloatProgressModel",
            "bar_style": "success",
            "max": 531456000,
            "_view_module": "@jupyter-widgets/controls",
            "_model_module_version": "1.5.0",
            "value": 531456000,
            "_view_count": null,
            "_view_module_version": "1.5.0",
            "orientation": "horizontal",
            "min": 0,
            "description_tooltip": null,
            "_model_module": "@jupyter-widgets/controls",
            "layout": "IPY_MODEL_cd2a7f1e5b814747b774bb40f4bf69b3"
          }
        },
        "1e5e73b29d9548139f732ee1dfb319e9": {
          "model_module": "@jupyter-widgets/controls",
          "model_name": "HTMLModel",
          "state": {
            "_view_name": "HTMLView",
            "style": "IPY_MODEL_621ce8ce8ad74a8bb924b9236ddc1f38",
            "_dom_classes": [],
            "description": "",
            "_model_name": "HTMLModel",
            "placeholder": "​",
            "_view_module": "@jupyter-widgets/controls",
            "_model_module_version": "1.5.0",
            "value": " 507M/507M [09:20&lt;00:00, 948kB/s]",
            "_view_count": null,
            "_view_module_version": "1.5.0",
            "description_tooltip": null,
            "_model_module": "@jupyter-widgets/controls",
            "layout": "IPY_MODEL_01a022c3701742c6be6e4baf98f48c1d"
          }
        },
        "0a77cbcbd3da4f1ebf97c8b24350206f": {
          "model_module": "@jupyter-widgets/controls",
          "model_name": "ProgressStyleModel",
          "state": {
            "_view_name": "StyleView",
            "_model_name": "ProgressStyleModel",
            "description_width": "initial",
            "_view_module": "@jupyter-widgets/base",
            "_model_module_version": "1.5.0",
            "_view_count": null,
            "_view_module_version": "1.2.0",
            "bar_color": null,
            "_model_module": "@jupyter-widgets/controls"
          }
        },
        "cd2a7f1e5b814747b774bb40f4bf69b3": {
          "model_module": "@jupyter-widgets/base",
          "model_name": "LayoutModel",
          "state": {
            "_view_name": "LayoutView",
            "grid_template_rows": null,
            "right": null,
            "justify_content": null,
            "_view_module": "@jupyter-widgets/base",
            "overflow": null,
            "_model_module_version": "1.2.0",
            "_view_count": null,
            "flex_flow": null,
            "width": null,
            "min_width": null,
            "border": null,
            "align_items": null,
            "bottom": null,
            "_model_module": "@jupyter-widgets/base",
            "top": null,
            "grid_column": null,
            "overflow_y": null,
            "overflow_x": null,
            "grid_auto_flow": null,
            "grid_area": null,
            "grid_template_columns": null,
            "flex": null,
            "_model_name": "LayoutModel",
            "justify_items": null,
            "grid_row": null,
            "max_height": null,
            "align_content": null,
            "visibility": null,
            "align_self": null,
            "height": null,
            "min_height": null,
            "padding": null,
            "grid_auto_rows": null,
            "grid_gap": null,
            "max_width": null,
            "order": null,
            "_view_module_version": "1.2.0",
            "grid_template_areas": null,
            "object_position": null,
            "object_fit": null,
            "grid_auto_columns": null,
            "margin": null,
            "display": null,
            "left": null
          }
        },
        "621ce8ce8ad74a8bb924b9236ddc1f38": {
          "model_module": "@jupyter-widgets/controls",
          "model_name": "DescriptionStyleModel",
          "state": {
            "_view_name": "StyleView",
            "_model_name": "DescriptionStyleModel",
            "description_width": "",
            "_view_module": "@jupyter-widgets/base",
            "_model_module_version": "1.5.0",
            "_view_count": null,
            "_view_module_version": "1.2.0",
            "_model_module": "@jupyter-widgets/controls"
          }
        },
        "01a022c3701742c6be6e4baf98f48c1d": {
          "model_module": "@jupyter-widgets/base",
          "model_name": "LayoutModel",
          "state": {
            "_view_name": "LayoutView",
            "grid_template_rows": null,
            "right": null,
            "justify_content": null,
            "_view_module": "@jupyter-widgets/base",
            "overflow": null,
            "_model_module_version": "1.2.0",
            "_view_count": null,
            "flex_flow": null,
            "width": null,
            "min_width": null,
            "border": null,
            "align_items": null,
            "bottom": null,
            "_model_module": "@jupyter-widgets/base",
            "top": null,
            "grid_column": null,
            "overflow_y": null,
            "overflow_x": null,
            "grid_auto_flow": null,
            "grid_area": null,
            "grid_template_columns": null,
            "flex": null,
            "_model_name": "LayoutModel",
            "justify_items": null,
            "grid_row": null,
            "max_height": null,
            "align_content": null,
            "visibility": null,
            "align_self": null,
            "height": null,
            "min_height": null,
            "padding": null,
            "grid_auto_rows": null,
            "grid_gap": null,
            "max_width": null,
            "order": null,
            "_view_module_version": "1.2.0",
            "grid_template_areas": null,
            "object_position": null,
            "object_fit": null,
            "grid_auto_columns": null,
            "margin": null,
            "display": null,
            "left": null
          }
        }
      }
    }
  },
  "cells": [
    {
      "cell_type": "markdown",
      "metadata": {
        "id": "view-in-github",
        "colab_type": "text"
      },
      "source": [
        "<a href=\"https://colab.research.google.com/github/RajBharti25/ILD/blob/master/SUMNet_lung.ipynb\" target=\"_parent\"><img src=\"https://colab.research.google.com/assets/colab-badge.svg\" alt=\"Open In Colab\"/></a>"
      ]
    },
    {
      "cell_type": "code",
      "metadata": {
        "id": "NElSOMREXd24",
        "colab_type": "code",
        "colab": {
          "base_uri": "https://localhost:8080/",
          "height": 121
        },
        "outputId": "a5686ebb-ce6a-4836-caae-ad212ac58a71"
      },
      "source": [
        "from google.colab import drive\n",
        "drive.mount('/content/gdrive/')"
      ],
      "execution_count": null,
      "outputs": [
        {
          "output_type": "stream",
          "text": [
            "Go to this URL in a browser: https://accounts.google.com/o/oauth2/auth?client_id=947318989803-6bn6qk8qdgf4n4g3pfee6491hc0brc4i.apps.googleusercontent.com&redirect_uri=urn%3aietf%3awg%3aoauth%3a2.0%3aoob&scope=email%20https%3a%2f%2fwww.googleapis.com%2fauth%2fdocs.test%20https%3a%2f%2fwww.googleapis.com%2fauth%2fdrive%20https%3a%2f%2fwww.googleapis.com%2fauth%2fdrive.photos.readonly%20https%3a%2f%2fwww.googleapis.com%2fauth%2fpeopleapi.readonly&response_type=code\n",
            "\n",
            "Enter your authorization code:\n",
            "··········\n",
            "Mounted at /content/gdrive/\n"
          ],
          "name": "stdout"
        }
      ]
    },
    {
      "cell_type": "code",
      "metadata": {
        "id": "DlDEx2Zha8bq",
        "colab_type": "code",
        "colab": {}
      },
      "source": [
        "import numpy as np\n",
        "\n",
        "import matplotlib.pyplot as plt\n",
        "\n",
        "import time\n",
        "\n",
        "# Imports from torch for neural networks\n",
        "import torch\n",
        "import torchvision\n",
        "from torch.autograd import Variable\n",
        "from torch.utils.data import TensorDataset,DataLoader\n",
        "from torchvision import models, transforms\n",
        "import torch.nn as nn\n",
        "import torch.nn.functional as F\n",
        "import torch.optim as optim"
      ],
      "execution_count": null,
      "outputs": []
    },
    {
      "cell_type": "code",
      "metadata": {
        "id": "ltgr-cPzbHMN",
        "colab_type": "code",
        "colab": {
          "base_uri": "https://localhost:8080/",
          "height": 84
        },
        "outputId": "0d23b5d0-5e0b-4dcd-9548-70e3f6282aff"
      },
      "source": [
        "TrainImages=torch.load('/content/gdrive/My Drive/Colab Notebook/ILD/TrainImages.pt')\n",
        "TrainLabels=torch.load('/content/gdrive/My Drive/Colab Notebook/ILD/TrainLabels.pt')\n",
        "TestImages=torch.load('/content/gdrive/My Drive/Colab Notebook/ILD/TestImages.pt')\n",
        "TestLabels=torch.load('/content/gdrive/My Drive/Colab Notebook/ILD/TestLabels.pt')\n",
        "#Printing out the data size for verification\n",
        "print(TrainImages.size())\n",
        "print(TrainLabels.size())\n",
        "print(TestImages.size())\n",
        "print(TestLabels.size())"
      ],
      "execution_count": null,
      "outputs": [
        {
          "output_type": "stream",
          "text": [
            "torch.Size([1398, 1, 512, 512])\n",
            "torch.Size([1398, 512, 512])\n",
            "torch.Size([9, 1, 512, 512])\n",
            "torch.Size([9, 512, 512])\n"
          ],
          "name": "stdout"
        }
      ]
    },
    {
      "cell_type": "code",
      "metadata": {
        "id": "7aHHC1vubLGT",
        "colab_type": "code",
        "colab": {
          "base_uri": "https://localhost:8080/",
          "height": 34
        },
        "outputId": "9439adfd-552b-4ca4-e803-5f3d4a6d1ecf"
      },
      "source": [
        "# Creating pytorch dataset\n",
        "trainDataset = TensorDataset(TrainImages, TrainLabels)\n",
        "testDataset = TensorDataset(TestImages, TestLabels)\n",
        "# Creating dataloader\n",
        "BatchSize = 4\n",
        "trainLoader = DataLoader(trainDataset, batch_size=BatchSize, shuffle=True)\n",
        "testLoader = DataLoader(testDataset, batch_size=BatchSize, shuffle=False)\n",
        "\n",
        "# Check availability of GPU\n",
        "use_gpu = torch.cuda.is_available()\n",
        "if use_gpu:\n",
        "    print('GPU is available!')"
      ],
      "execution_count": null,
      "outputs": [
        {
          "output_type": "stream",
          "text": [
            "GPU is available!\n"
          ],
          "name": "stdout"
        }
      ]
    },
    {
      "cell_type": "code",
      "metadata": {
        "id": "6lGoILWBbfXN",
        "colab_type": "code",
        "colab": {}
      },
      "source": [
        "class SegNet(nn.Module):\n",
        "    def __init__(self):\n",
        "        super(SegNet, self).__init__()\n",
        "        \n",
        "        self.encoder   = models.vgg11(pretrained = True).features\n",
        "        self.preconv   = nn.Conv2d(1, 3, 1)\n",
        "        self.conv1     = self.encoder[0]\n",
        "        self.pool1     = nn.MaxPool2d(2, 2, return_indices = True)\n",
        "        self.conv2     = self.encoder[3]\n",
        "        self.pool2     = nn.MaxPool2d(2, 2, return_indices = True)\n",
        "        self.conv3a    = self.encoder[6]\n",
        "        self.conv3b    = self.encoder[8]\n",
        "        self.pool3     = nn.MaxPool2d(2, 2, return_indices = True)\n",
        "        self.conv4a    = self.encoder[11]\n",
        "        self.conv4b    = self.encoder[13]\n",
        "        self.pool4     = nn.MaxPool2d(2, 2, return_indices = True)\n",
        "        self.conv5a    = self.encoder[16]\n",
        "        self.conv5b    = self.encoder[18]\n",
        "        self.pool5     = nn.MaxPool2d(2, 2, return_indices = True)\n",
        "        \n",
        "        self.unpool5   = nn.MaxUnpool2d(2, 2)\n",
        "        self.donv5b    = nn.Conv2d(1024, 512, 3, padding = 1)\n",
        "        self.donv5a    = nn.Conv2d(512, 512, 3, padding = 1)\n",
        "        self.unpool4   = nn.MaxUnpool2d(2, 2)\n",
        "        self.donv4b    = nn.Conv2d(1024, 512, 3, padding = 1)\n",
        "        self.donv4a    = nn.Conv2d(512, 256, 3, padding = 1)\n",
        "        self.unpool3   = nn.MaxUnpool2d(2, 2)\n",
        "        self.donv3b    = nn.Conv2d(512, 256, 3, padding = 1)\n",
        "        self.donv3a    = nn.Conv2d(256,128, 3, padding = 1)\n",
        "        self.unpool2   = nn.MaxUnpool2d(2, 2)\n",
        "        self.donv2     = nn.Conv2d(256, 64, 3, padding = 1)\n",
        "        self.unpool1   = nn.MaxUnpool2d(2, 2)\n",
        "        self.donv1     = nn.Conv2d(128, 32, 3, padding = 1)\n",
        "        self.output    = nn.Conv2d(32, 4, 1)\n",
        "        \n",
        "    def forward(self, x):\n",
        "        preconv        = F.relu(self.preconv(x), inplace = True)\n",
        "        conv1          = F.relu(self.conv1(preconv), inplace = True)\n",
        "        pool1, idxs1   = self.pool1(conv1)\n",
        "        conv2          = F.relu(self.conv2(pool1), inplace = True)\n",
        "        pool2, idxs2   = self.pool2(conv2)\n",
        "        conv3a         = F.relu(self.conv3a(pool2), inplace = True)\n",
        "        conv3b         = F.relu(self.conv3b(conv3a), inplace = True)\n",
        "        pool3, idxs3   = self.pool3(conv3b)\n",
        "        conv4a         = F.relu(self.conv4a(pool3), inplace = True)\n",
        "        conv4b         = F.relu(self.conv4b(conv4a), inplace = True)\n",
        "        pool4, idxs4   = self.pool4(conv4b)\n",
        "        conv5a         = F.relu(self.conv5a(pool4), inplace = True)\n",
        "        conv5b         = F.relu(self.conv5b(conv5a), inplace = True)\n",
        "        pool5, idxs5   = self.pool5(conv5b)\n",
        "        \n",
        "        unpool5        = torch.cat([self.unpool5(pool5, idxs5), conv5b], 1)\n",
        "        donv5b         = F.relu(self.donv5b(unpool5), inplace = True)\n",
        "        donv5a         = F.relu(self.donv5a(donv5b), inplace = True)\n",
        "        unpool4        = torch.cat([self.unpool4(donv5a, idxs4), conv4b], 1)\n",
        "        donv4b         = F.relu(self.donv4b(unpool4), inplace = True)\n",
        "        donv4a         = F.relu(self.donv4a(donv4b), inplace = True)\n",
        "        unpool3        = torch.cat([self.unpool3(donv4a, idxs3), conv3b], 1)\n",
        "        donv3b         = F.relu(self.donv3b(unpool3), inplace = True)\n",
        "        donv3a         = F.relu(self.donv3a(donv3b))\n",
        "        unpool2        = torch.cat([self.unpool2(donv3a, idxs2), conv2], 1)\n",
        "        donv2          = F.relu(self.donv2(unpool2), inplace = True)\n",
        "        unpool1        = torch.cat([self.unpool1(donv2, idxs1), conv1], 1)\n",
        "        donv1          = F.relu(self.donv1(unpool1), inplace = True)\n",
        "        output         = self.output(donv1)\n",
        "        return output"
      ],
      "execution_count": null,
      "outputs": []
    },
    {
      "cell_type": "code",
      "metadata": {
        "id": "1qWnVptmbjkQ",
        "colab_type": "code",
        "colab": {
          "base_uri": "https://localhost:8080/",
          "height": 82,
          "referenced_widgets": [
            "8ac153f7e81248ea9cb2de035069f7ee",
            "e78acae6f2fa462eb5ca7cc61d26ad81",
            "163d2fe7dc2343f2b04241d203f61d1c",
            "1e5e73b29d9548139f732ee1dfb319e9",
            "0a77cbcbd3da4f1ebf97c8b24350206f",
            "cd2a7f1e5b814747b774bb40f4bf69b3",
            "621ce8ce8ad74a8bb924b9236ddc1f38",
            "01a022c3701742c6be6e4baf98f48c1d"
          ]
        },
        "outputId": "8ac10ece-7d59-477e-b174-683e9f13d929"
      },
      "source": [
        "net = SegNet()\n",
        "if use_gpu:\n",
        "    net = net.cuda()\n",
        "\n",
        "criterion = nn.CrossEntropyLoss() # 2D Negative Log-Likelihood\n",
        "optimizer = optim.Adam(net.parameters(), lr = 1e-3)"
      ],
      "execution_count": null,
      "outputs": [
        {
          "output_type": "stream",
          "text": [
            "Downloading: \"https://download.pytorch.org/models/vgg11-bbd30ac9.pth\" to /root/.cache/torch/hub/checkpoints/vgg11-bbd30ac9.pth\n"
          ],
          "name": "stderr"
        },
        {
          "output_type": "display_data",
          "data": {
            "application/vnd.jupyter.widget-view+json": {
              "model_id": "8ac153f7e81248ea9cb2de035069f7ee",
              "version_minor": 0,
              "version_major": 2
            },
            "text/plain": [
              "HBox(children=(FloatProgress(value=0.0, max=531456000.0), HTML(value='')))"
            ]
          },
          "metadata": {
            "tags": []
          }
        },
        {
          "output_type": "stream",
          "text": [
            "\n"
          ],
          "name": "stdout"
        }
      ]
    },
    {
      "cell_type": "code",
      "metadata": {
        "id": "PGR-diJ7eYG3",
        "colab_type": "code",
        "colab": {
          "base_uri": "https://localhost:8080/",
          "height": 498
        },
        "outputId": "5658ce84-8773-4549-a48e-951107bcbb85"
      },
      "source": [
        "iterations = 2\n",
        "trainLoss = []\n",
        "testLoss = []\n",
        "start = time.time()\n",
        "avgTrainLoss=500\n",
        "lowest_loss=100\n",
        "PATH='/content/gdrive/My Drive/Colab Notebook/ILD/Unet_roi.pt'\n",
        "for epoch in range(iterations):\n",
        "    l=0\n",
        "    if(avgTrainLoss<=lowest_loss and epoch>1):\n",
        "      lowest_loss=avgTrainLoss\n",
        "      torch.save(net.state_dict(), PATH)\n",
        "    epochStart = time.time()\n",
        "    runningLoss = 0\n",
        "    net.train(True) # For training\n",
        "    \n",
        "    for data in trainLoader:\n",
        "        inputs,labels = data\n",
        "        # inputs=F.interpolate(inputs, (572,572))\n",
        "        # p2d = (30, 30, 30, 30) # pad last dim by (30, 30) and 2nd to last by (30, 30)\n",
        "        # inputs = F.pad(inputs, p2d, \"constant\", 0)\n",
        "        # labels=labels[:,:484,:484]\n",
        "        # labels=labels.data.cpu().numpy()\n",
        "        # idx=np.where(labels!=0)\n",
        "        # labels[idx]=1\n",
        "        # labels=torch.from_numpy(labels)\n",
        "        # Wrap them in Variable\n",
        "        if use_gpu:\n",
        "            inputs, labels = Variable(inputs.cuda()), \\\n",
        "                Variable(labels.long().cuda())\n",
        "        else:\n",
        "            inputs, labels = Variable(inputs), Variable(labels.long())\n",
        "        # Feed-forward input data through the network\n",
        "        outputs = net(inputs)\n",
        "        outputs = outputs.permute(0, 2, 3, 1)\n",
        "        # Compute loss/error\n",
        "        width_out=outputs.shape[1]\n",
        "        height_out=outputs.shape[2]\n",
        "        m = outputs.shape[0]\n",
        "\n",
        "        outputs = outputs.resize(m*width_out*height_out, 4)\n",
        "        labels = labels.resize(m*width_out*height_out)\n",
        "        loss = criterion(outputs, labels.long())\n",
        "        # loss = criterion(F.softmax(outputs, dim=1), labels)    \n",
        "        # Initialize gradients to zero\n",
        "        optimizer.zero_grad()                  \n",
        "        # Backpropagate loss and compute gradients\n",
        "        loss.backward()\n",
        "        # Update the network parameters\n",
        "        optimizer.step()\n",
        "        # Accumulate loss per batch\n",
        "        runningLoss += loss.data.item()\n",
        "        if l%100==0:\n",
        "          print('At dataloder: {:.0f};  instant  Loss: {:.6f}'\\\n",
        "                .format(l,loss.data.item()))\n",
        "        l=l+1\n",
        "        # print(runningLoss, loss.data.item())\n",
        "    avgTrainLoss = runningLoss/500.0    \n",
        "    trainLoss.append(avgTrainLoss)\n",
        "    plt.plot(range(epoch+1),trainLoss,'r--',label='train')     \n",
        "    # plt.plot(range(epoch+1),testLoss,'g--',label='test')      \n",
        "    if epoch==0:\n",
        "        plt.legend(loc='upper left')\n",
        "        plt.xlabel('Epochs')\n",
        "        plt.ylabel('Loss')\n",
        "      \n",
        "    \n",
        "    epochEnd = time.time()-epochStart\n",
        "    print('At Iteration: {:.0f} /{:.0f}  ;  Training Loss: {:.6f}; Time consumed: {:.0f}m {:.0f}s '\\\n",
        "          .format(epoch + 1,iterations,avgTrainLoss,epochEnd//60,epochEnd%60))\n",
        "    # print('At Iteration: {:.0f} /{:.0f}  ;  Testing Loss: {:.6f} ; Time consumed: {:.0f}m {:.0f}s '\\\n",
        "    #       .format(epoch + 1,iterations,avgTestLoss,epochEnd//60,epochEnd%60))\n",
        "end = time.time()-start\n",
        "print('Training completed in {:.0f}m {:.0f}s'.format(end//60,end%60))"
      ],
      "execution_count": null,
      "outputs": [
        {
          "output_type": "stream",
          "text": [
            "/usr/local/lib/python3.6/dist-packages/torch/tensor.py:358: UserWarning: non-inplace resize is deprecated\n",
            "  warnings.warn(\"non-inplace resize is deprecated\")\n"
          ],
          "name": "stderr"
        },
        {
          "output_type": "stream",
          "text": [
            "At dataloder: 0;  instant  Loss: 1.454218\n",
            "At dataloder: 100;  instant  Loss: 0.113996\n",
            "At dataloder: 200;  instant  Loss: 0.041826\n",
            "At dataloder: 300;  instant  Loss: 0.020911\n",
            "At Iteration: 1 /2  ;  Training Loss: 0.171250; Time consumed: 9m 7s \n",
            "At dataloder: 0;  instant  Loss: 0.043721\n",
            "At dataloder: 100;  instant  Loss: 0.029118\n",
            "At dataloder: 200;  instant  Loss: 0.032925\n",
            "At dataloder: 300;  instant  Loss: 0.073744\n",
            "At Iteration: 2 /2  ;  Training Loss: 0.043113; Time consumed: 9m 5s \n",
            "Training completed in 18m 12s\n"
          ],
          "name": "stdout"
        },
        {
          "output_type": "display_data",
          "data": {
            "image/png": "[encoded data removed]",
            "text/plain": [
              "<Figure size 432x288 with 1 Axes>"
            ]
          },
          "metadata": {
            "tags": [],
            "needs_background": "light"
          }
        }
      ]
    },
    {
      "cell_type": "code",
      "metadata": {
        "id": "P5TlYTbquMdC",
        "colab_type": "code",
        "colab": {}
      },
      "source": [
        "def dice_coef(y_true, y_pred, epsilon=1e-6):\n",
        "  # \"\"\"Altered Sorensen–Dice coefficient with epsilon for smoothing.\"\"\"\n",
        "  y_true_flatten = np.asarray(y_true).astype(np.bool)\n",
        "  y_pred_flatten = np.asarray(y_pred).astype(np.bool)\n",
        "\n",
        "  if not np.sum(y_true_flatten) + np.sum(y_pred_flatten):\n",
        "      return 1.0\n",
        "\n",
        "  return (2. * np.sum(y_true_flatten * y_pred_flatten)) /\\\n",
        "        (np.sum(y_true_flatten) + np.sum(y_pred_flatten) + epsilon)"
      ],
      "execution_count": null,
      "outputs": []
    },
    {
      "cell_type": "code",
      "metadata": {
        "id": "7gsmbO0GstoT",
        "colab_type": "code",
        "colab": {
          "base_uri": "https://localhost:8080/",
          "height": 522
        },
        "outputId": "0481cf12-ab74-4bd3-a07c-84157ebd96fb"
      },
      "source": [
        "a=[5,500,1300]\n",
        "randIdx = 1300\n",
        "testImg = TrainImages[randIdx]\n",
        "\n",
        "testLab = TrainLabels[randIdx].numpy()\n",
        "\n",
        "# Feed-forward\n",
        "segImg = net(Variable(testImg).unsqueeze(0).cuda())\n",
        "# Applying softmax to get class probabilities\n",
        "segImg_np = F.softmax(segImg).data.cpu().squeeze(0).numpy()\n",
        "\n",
        "# Displaying segmented output and ground truth\n",
        "plt.figure(figsize=(12,11))\n",
        "\n",
        "plt.subplot(331)\n",
        "plt.imshow(segImg_np[0,:,:],cmap='gray')\n",
        "plt.title('Channel 1')\n",
        "plt.subplot(332)\n",
        "plt.imshow(segImg_np[1,:,:],cmap='gray')\n",
        "plt.title('Channel 2')\n",
        "plt.subplot(333)\n",
        "plt.imshow(segImg_np[2,:,:],cmap='gray')\n",
        "plt.title('Channel 3')\n",
        "\n",
        "testLab=testLab/np.amax(testLab)\n",
        "a=np.where(segImg_np>=0.5)\n",
        "b=np.where(segImg_np<0.5)\n",
        "img=segImg_np.copy()\n",
        "img[a]=1\n",
        "img[b]=0\n",
        "\n",
        "plt.subplot(334)\n",
        "plt.imshow(segImg_np[3,:,:],cmap='gray')\n",
        "dice=dice_coef(testLab,img[3])\n",
        "\n",
        "plt.title('Dice score for 4th channel={:f}'.format(dice))\n",
        "plt.subplot(335)\n",
        "plt.imshow(testImg.squeeze(0)[30:542,30:542],cmap='bone')\n",
        "plt.title('Original Image')\n",
        "plt.subplot(336)\n",
        "plt.imshow(testLab,cmap='bone')\n",
        "plt.title('Original Mask')\n"
      ],
      "execution_count": null,
      "outputs": [
        {
          "output_type": "stream",
          "text": [
            "/usr/local/lib/python3.6/dist-packages/ipykernel_launcher.py:10: UserWarning: Implicit dimension choice for softmax has been deprecated. Change the call to include dim=X as an argument.\n",
            "  # Remove the CWD from sys.path while we load stuff.\n"
          ],
          "name": "stderr"
        },
        {
          "output_type": "execute_result",
          "data": {
            "text/plain": [
              "Text(0.5, 1.0, 'Original Mask')"
            ]
          },
          "metadata": {
            "tags": []
          },
          "execution_count": 28
        },
        {
          "output_type": "display_data",
          "data": {
            "image/png": "[encoded data removed]",
            "text/plain": [
              "<Figure size 864x792 with 6 Axes>"
            ]
          },
          "metadata": {
            "tags": [],
            "needs_background": "light"
          }
        }
      ]
    },
    {
      "cell_type": "code",
      "metadata": {
        "id": "7E4w5vYHtsPP",
        "colab_type": "code",
        "colab": {}
      },
      "source": [
        ""
      ],
      "execution_count": null,
      "outputs": []
    }
  ]
}